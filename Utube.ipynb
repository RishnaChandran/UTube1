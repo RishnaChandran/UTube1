{
  "nbformat": 4,
  "nbformat_minor": 0,
  "metadata": {
    "colab": {
      "name": "Utube.ipynb",
      "provenance": [],
      "authorship_tag": "ABX9TyMLDB98rTRgmf7mtwyIfm6R",
      "include_colab_link": true
    },
    "kernelspec": {
      "name": "python3",
      "display_name": "Python 3"
    },
    "language_info": {
      "name": "python"
    }
  },
  "cells": [
    {
      "cell_type": "markdown",
      "metadata": {
        "id": "view-in-github",
        "colab_type": "text"
      },
      "source": [
        "<a href=\"https://colab.research.google.com/github/RishnaChandran/UTube1/blob/main/Utube.ipynb\" target=\"_parent\"><img src=\"https://colab.research.google.com/assets/colab-badge.svg\" alt=\"Open In Colab\"/></a>"
      ]
    },
    {
      "cell_type": "code",
      "metadata": {
        "colab": {
          "base_uri": "https://localhost:8080/"
        },
        "id": "YGa8bzAJb9hI",
        "outputId": "c76041eb-da9c-4c7b-b259-bb7034625f0a"
      },
      "source": [
        "!pip install wordcloud"
      ],
      "execution_count": null,
      "outputs": [
        {
          "output_type": "stream",
          "name": "stdout",
          "text": [
            "Requirement already satisfied: wordcloud in /usr/local/lib/python3.7/dist-packages (1.5.0)\n",
            "Requirement already satisfied: pillow in /usr/local/lib/python3.7/dist-packages (from wordcloud) (7.1.2)\n",
            "Requirement already satisfied: numpy>=1.6.1 in /usr/local/lib/python3.7/dist-packages (from wordcloud) (1.19.5)\n"
          ]
        }
      ]
    },
    {
      "cell_type": "code",
      "metadata": {
        "id": "0xo-JDXKcVcm"
      },
      "source": [
        "#import Python packages that will help us analyzing the data, especially pandas for data analysis and matplotlib for visualization\n",
        "import pandas as pd\n",
        "import numpy as np\n",
        "import matplotlib as mpl\n",
        "from matplotlib import pyplot as plt\n",
        "import seaborn as sns\n",
        "sns.set(style='darkgrid')\n",
        "\n",
        "#WordCloud — The worldcloud library helps us ……yes you guessed right, create a word cloud!\n",
        "#JSON — The json module enables you to convert between JSON and Python Objects\n",
        "import warnings\n",
        "from collections import Counter\n",
        "import datetime\n",
        "import wordcloud\n",
        "import json"
      ],
      "execution_count": null,
      "outputs": []
    },
    {
      "cell_type": "code",
      "metadata": {
        "id": "fi-ZBgAecZm9",
        "colab": {
          "base_uri": "https://localhost:8080/"
        },
        "outputId": "2c900181-764b-4813-b1d6-17da6e2da5dd"
      },
      "source": [
        "!wget -q \"C:\\Users\\acer\\Downloads\\archive- U tube data sets_Rishna (Mentor-Srividhya).zip\"\n",
        "\n",
        "!unzip -q \"archive- U tube data sets_Rishna (Mentor-Srividhya).zip\"\n",
        "\n",
        "!rm \"archive- U tube data sets_Rishna (Mentor-Srividhya).zip\"\""
      ],
      "execution_count": 3,
      "outputs": [
        {
          "output_type": "stream",
          "name": "stdout",
          "text": [
            "unzip:  cannot find or open archive- U tube data sets_Rishna (Mentor-Srividhya).zip, archive- U tube data sets_Rishna (Mentor-Srividhya).zip.zip or archive- U tube data sets_Rishna (Mentor-Srividhya).zip.ZIP.\n",
            "/bin/bash: -c: line 0: unexpected EOF while looking for matching `\"'\n",
            "/bin/bash: -c: line 1: syntax error: unexpected end of file\n"
          ]
        }
      ]
    },
    {
      "cell_type": "code",
      "metadata": {
        "colab": {
          "base_uri": "https://localhost:8080/"
        },
        "id": "ob11IcL7gnfx",
        "outputId": "8d7ac7c7-2a05-4911-f573-123cabdbc1c3"
      },
      "source": [
        ""
      ],
      "execution_count": 2,
      "outputs": [
        {
          "output_type": "stream",
          "name": "stdout",
          "text": [
            "unzip:  cannot find or open archive- U tube data sets_Rishna (Mentor-Srividhya).zip, archive- U tube data sets_Rishna (Mentor-Srividhya).zip.zip or archive- U tube data sets_Rishna (Mentor-Srividhya).zip.ZIP.\n"
          ]
        }
      ]
    }
  ]
}